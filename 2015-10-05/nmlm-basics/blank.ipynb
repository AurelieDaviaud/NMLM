{
 "cells": [
  {
   "cell_type": "markdown",
   "metadata": {},
   "source": [
    "# Meetup du 5 octobre 2015 : Régression linéaire & régression logistique"
   ]
  },
  {
   "cell_type": "markdown",
   "metadata": {},
   "source": [
    "## Régression linéaire\n",
    "\n",
    "### Introduction\n",
    "\n",
    "Pour commencer ce meetup, on va s'intéresser à une technique primordiale en Statistique et en Apprentissage Automatique : la régression linéaire. La régression en Statistique est l'étude de la relation entre plusieurs variables.\n",
    "\n",
    "Pour illustrer cette tâche de régression, prenons un exemple local. Pour mieux prévoir les possibilités budgétaires à venir, un comptable des Pays de la Loire veut prédire, à partir des données d'années précédentes, le montant de TVA que sa région va percevoir dans un futur proche.\n",
    "\n",
    "Cet élu fait de la régression : il étudie la relation entre une variable (l'année courante) et une autre variable (le montant de TVA perçu).\n",
    "\n",
    "Nantes a une forte politique d'ouverture des données, il est donc possible de récupérer ces données de perception de TVA [directement sur internet](http://data.nantes.fr/donnees/detail/taxe-sur-la-valeur-ajoutee-tva-en-pays-de-la-loire/).\n",
    "\n",
    "Passons en python quelques secondes pour afficher ce dataset :"
   ]
  },
  {
   "cell_type": "code",
   "execution_count": 14,
   "metadata": {
    "collapsed": false
   },
   "outputs": [
    {
     "name": "stdout",
     "output_type": "stream",
     "text": [
      "Sample of the input: [[  1.   7.]\n",
      " [  1.   8.]\n",
      " [  1.   9.]\n",
      " [  1.  10.]\n",
      " [  1.  11.]\n",
      " [  1.  12.]\n",
      " [  1.  13.]\n",
      " [  1.  14.]\n",
      " [  1.  15.]]\n",
      "Sample of the output: [ 447.11094107  466.00270957  478.5392601   486.91253778  496.33981854\n",
      "  502.792171    488.825077    534.840294    545.012609  ]\n"
     ]
    },
    {
     "data": {
      "image/png": "[encoded data removed]",
      "text/plain": [
       "<matplotlib.figure.Figure at 0x7f97f82ac410>"
      ]
     },
     "metadata": {},
     "output_type": "display_data"
    }
   ],
   "source": [
    "%matplotlib inline\n",
    "\n",
    "from __future__ import division\n",
    "from collections import defaultdict\n",
    "\n",
    "import csv\n",
    "import matplotlib.pyplot as plt\n",
    "import numpy as np\n",
    "\n",
    "vat = []\n",
    "\n",
    "with open('data/vat.csv', 'rb') as f:\n",
    "    reader = csv.reader(f)\n",
    "    reader.next()  # discard headers\n",
    "    for [year, month, vat_value] in reader:\n",
    "        if month == \"01janvier\":\n",
    "            vat += [(int(year) - 2000, float(vat_value) / 1e6)]\n",
    "vat.sort()\n",
    "vat_X = np.c_[np.ones(len(vat)), np.array([x for (x, y) in vat])]\n",
    "vat_y = np.array([y for (x, y) in vat])\n",
    "if True:\n",
    "    print 'Sample of the input:', vat_X[:10]\n",
    "    print 'Sample of the output:', vat_y[:10]\n",
    "\n",
    "plt.plot(vat_X[:,1], vat_y)\n",
    "plt.show()"
   ]
  },
  {
   "cell_type": "markdown",
   "metadata": {},
   "source": [
    "Pour prédire automatiquement la valeur perçue en 2016, il faut réussir à comprendre l'évolution jointe de la TVA perçue et du temps. C'est ce que l'on va faire maintenant.\n",
    "\n",
    "Pour commencer, on va se limiter à une hypothèse forte : on peut trouver une fonction affine qui modélise correctement la relation entre les entrées et les sorties (ici, les années et la TVA perçue). Pour rappel, une fonction affine est de la forme $h_\\theta(x) = \\theta_0 + \\theta_1 \\times x $. \n",
    "\n",
    "Géométriquement, on pourra représenter cette fonction par une droite qui ne passera par $(0, 0)$ que si $\\theta_0$ est nul.\n",
    "\n",
    "Par exemple, ici, on aimerait trouver l'hypothèse suivante :"
   ]
  },
  {
   "cell_type": "code",
   "execution_count": 15,
   "metadata": {
    "collapsed": false
   },
   "outputs": [
    {
     "data": {
      "image/png": "[encoded data removed]",
      "text/plain": [
       "<matplotlib.figure.Figure at 0x7f97f6012950>"
      ]
     },
     "metadata": {},
     "output_type": "display_data"
    },
    {
     "name": "stdout",
     "output_type": "stream",
     "text": [
      "θ₀ = 377.703752912; θ₁ = 10.5761782005\n"
     ]
    }
   ],
   "source": [
    "from sklearn import linear_model\n",
    "\n",
    "clf = linear_model.LinearRegression(fit_intercept=False)\n",
    "clf.fit(vat_X, vat_y)\n",
    "plt.plot(vat_X[:, 1], vat_y, 'b')\n",
    "plt.plot(vat_X[:, 1], clf.predict(vat_X), 'r')\n",
    "plt.show()\n",
    "\n",
    "print 'θ₀ = %s; θ₁ = %s' % (clf.coef_[0], clf.coef_[1])"
   ]
  },
  {
   "cell_type": "markdown",
   "metadata": {},
   "source": [
    "Cette droite nous permet facilement de prédire de nouvelles valeurs grâce à l'équation suivante :\n",
    "\n",
    "$$\n",
    "\\begin{align}\n",
    "  h_\\theta   & = \\theta_0       + \\theta_1      \\times \\text{X} \\\\\n",
    "  \\text{TVA} & = 377.703752912 + 10.5761782005 \\times \\text{Année}\n",
    "\\end{align}\n",
    "$$\n",
    "\n",
    "Par exemple, on peut prédire pour l'année 2016 une perception de $377.703752912 + 10.5761782005 \\times 2016 = 546,92260412$M€.\n",
    "\n",
    "Tout ça est prometteur, mais ici nous avons utilisé [`scikit-learn`](http://scikit-learn.org/stable/) pour calculer les paramètres de l'hypothèse qui représente au mieux les données. Nous allons maintenant voir comment le faire nous même.\n",
    "\n",
    "### Estimation des paramètres\n",
    "\n",
    "Pour estimer $\\theta$ ($\\theta_0$ et $\\theta_1$), nous avons besoin de 2 éléments :\n",
    "\n",
    "- une fonction de coût, qui nous dira pour des paramètres donnés $\\theta$ si l'on se débrouille bien ou non\n",
    "- une méthode d'estimation des meilleurs paramètres étant donnée cette fonction de coût\n",
    "\n",
    "#### Fonction de coût\n",
    "\n",
    "La fonction de coût la plus utilisée est la moyenne des différences entre les points réels et ceux obtenus par l'hypothèse avec les paramètres courants, le tout au carré. Pour illustrer :\n",
    "\n",
    "![Illustration of linear least squares by Oleg Alexandrov](files/img/least-squares.png)\n",
    "\n",
    "Dans cette exemple, si notre hypothèse est la droite bleue, alors la coût de cette hypothèse est la somme des carrés des segments verts.\n",
    "\n",
    "En notant $J$ la fonction de coût, $m$ le nombre d'exemples d'apprentissage, $X^{(i)}$ le $i^e$ input du dataset et $y^{(i)}$ le $i^e$ output du dataset, on peut écrire :\n",
    "\n",
    "$$\n",
    "J(\\theta) = \\frac{1}{2m}\\sum^m_{i=1}\\left(h_\\theta(X^{(i)}) - y^{(i)}\\right)^2\n",
    "$$\n",
    "\n",
    "Note  : on a divisé par 2 pour simplifier les maths qui suivent.\n",
    "\n",
    "#### Optimisation des paramètres\n",
    "\n",
    "Optimiser les paramètres revient à minimiser la fonction de coût :\n",
    "\n",
    "$$\\min_{\\theta} \\frac{1}{2m}\\sum^m_{i=1}\\left(h_\\theta(X^{(i)}) - y^{(i)}\\right)^2$$\n",
    "\n",
    "Pour ce faire, il existe une formule directe que nous n'utiliserons pas ce soir pour deux raisons : elle n'est pas applicable aux très grands datasets et la méthode que l'on va utiliser pourra être réutilisée pour la régression logistique.\n",
    "\n",
    "Nous allons utiliser la descente de gradient. Cette méthode est itérative et fait des pas successifs en suivant la dérivée (pour maximiser) ou son opposé (pour minimiser). Dans le cas de la régression linéaire, elle converge vers l'optimum global (la meilleure solution).\n",
    "\n",
    "![An illustration of the gradient descent method by Oleg Alexandrov](files/img/gradient-descent.png)\n",
    "\n",
    "En pseudo-code, l'algorithme est:\n",
    "\n",
    "$$\n",
    "\\begin{align}\n",
    "& \\text{tant que ça n'a pas convergé :} \\\\\n",
    "& \\quad \\theta \\leftarrow \\theta - \\alpha \\frac{\\delta}{\\delta\\theta} J(\\theta)\n",
    "\\end{align}\n",
    "$$\n",
    "\n",
    "où $\\alpha$ est le pas d'apprentissage et où $\\frac{\\delta}{\\delta\\theta} J(\\theta)$ est la dérivée de la fonction de coût par rapport à $\\theta$.\n",
    "\n",
    "Pour pouvoir implémenter cet algorithme d'optimisation, il nous faut donc calculer la dérivée de la fonction de coût par rapport à $\\theta$. Prenez le résultat tel quel si les maths vous embêtent :\n",
    "\n",
    "$$\n",
    "\\begin{align}\n",
    "\\frac{\\delta}{\\delta\\theta} J(\\theta) & = \\frac{\\delta}{\\delta\\theta} \\frac{1}{2m}\\sum^m_{i=1}\\left(h_\\theta(X^{(i)}) - y^{(i)}\\right)^2 \\\\\n",
    "& = \\frac{1}{m}\\sum^m_{i=1}\\left(X^T(X\\theta^T - y)\\right) \\\\\n",
    "\\end{align}\n",
    "$$\n",
    "\n",
    "Si au contraire vous souhaitez approfondir la chose, voir http://math.stackexchange.com/questions/70728/partial-derivative-in-gradient-descent-for-two-variables/189792#189792.\n",
    "\n",
    "On peut maintenant coder ça en python !"
   ]
  },
  {
   "cell_type": "code",
   "execution_count": 1,
   "metadata": {
    "collapsed": false
   },
   "outputs": [],
   "source": [
    "def cost_function(X, y, theta):\n",
    "    # TODO\n",
    "    pass\n",
    "\n",
    "def gradient_function(X, y, theta):\n",
    "    # TODO\n",
    "    pass\n",
    "\n",
    "def gradient_approx_function(X, y, theta, epsilon=0.000001):\n",
    "    grads = []\n",
    "    for i in range(theta.size):\n",
    "        below = theta.copy()\n",
    "        below[i] -= epsilon\n",
    "        above = theta.copy()\n",
    "        above[i] += epsilon\n",
    "        grads += [(cost_function(X, y, above) - cost_function(X, y, below))\n",
    "                  / (2 * epsilon)]\n",
    "    return np.array(grads)\n",
    "\n",
    "def predict(X, theta):\n",
    "    # TODO\n",
    "    pass\n",
    "\n",
    "def gradient_descent(X,\n",
    "                     y,\n",
    "                     alpha,\n",
    "                     max_iter=1000, gradient_check=True):\n",
    "    # TODO\n",
    "    pass\n",
    "#theta, costs = gradient_descent(vat_X, vat_y, 0.006, 10000)\n",
    "#plt.plot(vat_X[:, 1], vat_y, 'b')\n",
    "#plt.plot(vat_X[:, 1], predict(vat_X, theta), 'r')\n",
    "#plt.show()\n",
    "#print 'θ₀ = %s; θ₁ = %s' % (theta[0], theta[1])\n",
    "#plt.plot(range(len(costs)), costs)\n",
    "#plt.show()"
   ]
  },
  {
   "cell_type": "markdown",
   "metadata": {},
   "source": [
    "\n",
    "## Régression logistique\n",
    "\n",
    "Cette fois ci, on cherche à prédire une variable qui prend des valeurs dans certaines classes et non pas une valeur précise. Malgré le nom de cette technique (régression logistique), on ne fait plus de la régression mais de la classification.\n",
    "\n",
    "Pour travailler cette nouvelle technique, on utilisera le [dataset](http://data.nantes.fr/donnees/detail/adresses-postales-de-nantes-metropole/) de Nantes Open Data contenant toutes les adresses postales de Nantes Métropole.. Notre but ? À partir des coordonnées GPS d'une rue, on cherche à savoir si elle se trouve ou non dans la zone du code postal 44000. Regardons en python à quoi ressemble le dataset :"
   ]
  },
  {
   "cell_type": "code",
   "execution_count": 18,
   "metadata": {
    "collapsed": false
   },
   "outputs": [
    {
     "data": {
      "image/png": "[encoded data removed]",
      "text/plain": [
       "<matplotlib.figure.Figure at 0x7f97eac4c790>"
      ]
     },
     "metadata": {},
     "output_type": "display_data"
    }
   ],
   "source": [
    "addresses_X = []\n",
    "addresses_y = []\n",
    "\n",
    "with open('data/addresses.csv', 'rb') as f:\n",
    "    reader = csv.reader(f)\n",
    "    reader.next()  # discard headers\n",
    "    for [zipcode, longitude, latitude] in reader:\n",
    "        addresses_X += [(float(latitude), float(longitude))]\n",
    "        addresses_y += [zipcode if zipcode == '44000' else 'Other']\n",
    "\n",
    "addresses_X, addresses_y = np.array(addresses_X), np.array(addresses_y)\n",
    "# normalization\n",
    "addresses_X -= addresses_X.mean(axis=0)\n",
    "addresses_X /= addresses_X.std(axis=0)\n",
    "addresses_X = np.c_[np.ones(addresses_y.size), addresses_X]\n",
    "\n",
    "if False:\n",
    "    print 'Sample of the input:', addresses_X[:10]\n",
    "    print 'Sample of the output:', addresses_y[:10]\n",
    "\n",
    "idx_44000 = addresses_y == '44000'\n",
    "idx_not_44000 = np.logical_not(idx_44000)\n",
    "\n",
    "plt.plot(addresses_X[idx_44000, 1], addresses_X[idx_44000, 2], 'r+')\n",
    "plt.plot(addresses_X[idx_not_44000, 1], addresses_X[idx_not_44000, 2], 'b+')\n",
    "plt.show()"
   ]
  },
  {
   "cell_type": "markdown",
   "metadata": {},
   "source": [
    "Notre but est donc d'apprendre la zone rouge de manière automatique afin de pouvoir déclarer les GPS qu'elle contient comme étant 44000.\n",
    "\n",
    "Cette fois-ci, au lieu d'apprendre une fonction de type\n",
    "\n",
    "$$h_\\theta(\\text{long}, \\text{lat}) = \\theta_0 + \\theta_1 \\times \\text{long} + \\theta_2 \\times \\text{lat}$$\n",
    "\n",
    "comme on l'aurait fait avec une régression linéaire, on va apprendre une fonction de type\n",
    "\n",
    "$$h_\\theta(\\text{long}, \\text{lat}) = \\sigma\\left(\\theta_0 + \\theta_1 \\times \\text{long} + \\theta_2 \\times \\text{lat}\\right)$$\n",
    "\n",
    "où\n",
    "$$\\sigma(x) = \\frac{1}{1 + e^{-x}}$$\n",
    "\n",
    "Cette fonction $\\sigma$ ressemble à\n",
    "\n",
    "![The logistic sigmoid function by Qef](files/img/sigmoid-function.svg).\n",
    "\n",
    "Intuitivement, la différence par rapport à la régression linéaire est que la fonction $\\sigma$ va nous permettre d'attribuer une classe à un objet d'entrée en fonction de sa distance avec la frontière linéaire entre les classes.\n",
    "\n",
    "Comme tout à l'heure, commençons par le faire avec scikit-learn :"
   ]
  },
  {
   "cell_type": "code",
   "execution_count": 19,
   "metadata": {
    "collapsed": false
   },
   "outputs": [
    {
     "name": "stdout",
     "output_type": "stream",
     "text": [
      "h = σ(-8.0990450701 + -27.9349597427 * lat + -49.6559424896 * long + 145.176144407 * lat² + 25.6461740769 * lat * long + 93.2806543721 * long²)\n"
     ]
    },
    {
     "data": {
      "image/png": "[encoded data removed]",
      "text/plain": [
       "<matplotlib.figure.Figure at 0x7f97eb39d5d0>"
      ]
     },
     "metadata": {},
     "output_type": "display_data"
    }
   ],
   "source": [
    "from sklearn.linear_model import LogisticRegression\n",
    "from sklearn.preprocessing import PolynomialFeatures\n",
    "\n",
    "# we'll needs polynomial features, sklearn has a handy tool for that\n",
    "# 1, a, b, a^2, ab, b^2\n",
    "poly = PolynomialFeatures(degree=2)\n",
    "addresses_X_poly = poly.fit_transform(addresses_X[:, 1:])\n",
    "\n",
    "# poly already adds the bias, so it's important not to let fit_intercept\n",
    "# to True\n",
    "logreg = LogisticRegression(C=1e5, fit_intercept=False)\n",
    "logreg.fit(addresses_X_poly, addresses_y)\n",
    "print \"h = σ(%s + %s * lat + %s * long + \" \\\n",
    "      \"%s * lat² + %s * lat * long + %s * long²)\" % tuple(logreg.coef_[0])\n",
    "\n",
    "# let's predict & plot everything on a square to see what's the\n",
    "# classification frontier\n",
    "x_min, x_max = addresses_X[:, 1].min() - .5, addresses_X[:, 0].max() + .5\n",
    "y_min, y_max = addresses_X[:, 1].min() - .5, addresses_X[:, 1].max() + .5\n",
    "step = 0.1\n",
    "xx, yy = np.meshgrid(np.arange(x_min, x_max, step),\n",
    "                     np.arange(y_min, y_max, step))\n",
    "coords = np.c_[xx.ravel(), yy.ravel()]\n",
    "Z = logreg.predict(poly.fit_transform(coords))\n",
    "\n",
    "idx_Z_44000 = Z == '44000'\n",
    "idx_Z_not_44000 = np.logical_not(idx_Z_44000)\n",
    "\n",
    "plt.plot(coords[idx_Z_44000, 0], coords[idx_Z_44000, 1], 'r+')\n",
    "plt.plot(coords[idx_Z_not_44000, 0], coords[idx_Z_not_44000, 1], 'b+')\n",
    "plt.show()"
   ]
  },
  {
   "cell_type": "markdown",
   "metadata": {},
   "source": [
    "Comme tout à l'heure, nous aurons besoin d'une fonction de coût et d'une méthode d'optimisation. La méthode ne change pas, seule la fonction de coût et sa dérivée sont à re-étudier :\n",
    "\n",
    "#### Fonction de coût\n",
    "\n",
    "De manière générale, on peut écrire une fonction de coût comme :\n",
    "\n",
    "$$\n",
    "J(\\theta) = \\frac{1}{m}\\sum^m_{i=1}\\text{Cost}\\left(h_\\theta(x^{(i)}), y^{(i)}\\right)\n",
    "$$\n",
    "\n",
    "avec $\\text{Cost}$ à définir. Pour la régression logistique, on utilise\n",
    "$$\n",
    "\\begin{cases} \n",
    " -\\log(h_\\theta(x)) & \\text{si } y = 1 \\\\\n",
    " -\\log(1 - h_\\theta(x)) & \\text{si } y = 0 \\\\\n",
    "\\end{cases}\n",
    "$$\n",
    "\n",
    "On peut réécrire cette fonction comme suit :\n",
    "\n",
    "$$\n",
    "\\text{Cost}\\left(h_\\theta(x^{(i)}), y^{(i)}\\right) = -y\\log(h_\\theta(x)) -(1 - y)\\log(1 - h_\\theta(x))\n",
    "$$\n",
    "\n",
    "#### Dérivée de la fonction de coût\n",
    "\n",
    "Une dérivation complète est disponible sur [Coursera](https://share.coursera.org/wiki/index.php/ML:Logistic_Regression) (gratuit, nécessite une inscription). Nous donnerons ici seulement la forme finale, qui ne diffère de celle de la régression linéaire que pour la nature de l'hypothèse $h$ (avec sa fonction $\\sigma$ additionnelle) :\n",
    "\n",
    "$$\n",
    "\\frac{\\delta}{\\delta\\theta}J(h\\theta) = \\frac{\\delta}{\\delta\\theta} \\frac{1}{m}\\sum^m_{i=1}\\left(h_\\theta(X^{(i)}) - y^{(i)}\\right)X^{(i)}\n",
    "$$\n",
    "\n",
    "L'implémentation est la même que celle que l'on a faite pour la régression linéaire, à la fonction de coût et à cette dérivée près. Essayez de la compléter pour solidifier vos bases !\n",
    "\n",
    "## Pour aller plus loin\n",
    "\n",
    "- [L'excellent Coursera d'Andrew Ng sur le Machine Learning](https://www.coursera.org/learn/machine-learning/home/welcome) : Introduction avec travaux pratiques sur de nombreuses tâches du Machine Learning. Très adapté pour obtenir une première vue d'ensemble pertinente.\n",
    "\n",
    "- [La ML Week](http://www.ml-week.com/fr/) : Formation intensive sur 4 jours pour comprendre les fondations du Machine Learning, bientôt (du 2 au 5 novembre) et sur Nantes !\n",
    "\n",
    "- [Le sous-reddit Machine Learning](https://www.reddit.com/r/MachineLearning) : Plus pour l'actualité et les nouveaux développements que pour les bases mais très utile à mon goût."
   ]
  }
 ],
 "metadata": {
  "kernelspec": {
   "display_name": "Python 2",
   "language": "python",
   "name": "python2"
  },
  "language_info": {
   "codemirror_mode": {
    "name": "ipython",
    "version": 2
   },
   "file_extension": ".py",
   "mimetype": "text/x-python",
   "name": "python",
   "nbconvert_exporter": "python",
   "pygments_lexer": "ipython2",
   "version": "2.7.6"
  }
 },
 "nbformat": 4,
 "nbformat_minor": 0
}
